{
 "cells": [
  {
   "cell_type": "code",
   "execution_count": 1,
   "id": "264fadda",
   "metadata": {},
   "outputs": [
    {
     "name": "stdout",
     "output_type": "stream",
     "text": [
      "PyTorch sürümü: 2.4.1\n",
      "CUDA mevcut mu: True\n",
      "Kullanılan CUDA cihazı: NVIDIA GeForce RTX 4090\n"
     ]
    }
   ],
   "source": [
    "import torch\n",
    "print(\"PyTorch sürümü:\", torch.__version__)\n",
    "print(\"CUDA mevcut mu:\", torch.cuda.is_available())\n",
    "print(\"Kullanılan CUDA cihazı:\", torch.cuda.get_device_name(0) if torch.cuda.is_available() else \"CUDA bulunamadı\")\n"
   ]
  },
  {
   "cell_type": "code",
   "execution_count": 7,
   "id": "ddb32909",
   "metadata": {},
   "outputs": [],
   "source": [
    "import os\n",
    "import numpy as np\n",
    "from PIL import Image\n",
    "from torchvision import transforms\n",
    "import matplotlib.pyplot as plt\n",
    "from sklearn.metrics import confusion_matrix, ConfusionMatrixDisplay\n",
    "\n",
    "resize_transform = transforms.Resize((64, 64))\n",
    "transform = transforms.ToTensor()\n",
    "\n",
    "# Veriyi yükleme fonksiyonu\n",
    "def load_data_from_folder(folder_path, label):\n",
    "    data = []\n",
    "    labels = []\n",
    "    for subfolder in os.listdir(folder_path):\n",
    "        subfolder_path = os.path.join(folder_path, subfolder)\n",
    "        if os.path.isdir(subfolder_path):\n",
    "            frames = []\n",
    "            for file_name in sorted(os.listdir(subfolder_path)):\n",
    "                file_path = os.path.join(subfolder_path, file_name)\n",
    "                img = Image.open(file_path)\n",
    "                \n",
    "                img = resize_transform(img)\n",
    "                \n",
    "                img_array = np.array(img)\n",
    "                frames.append(img_array)\n",
    "            if len(frames) == 128:  # 128 frame içerdiğinden emin ol\n",
    "                data.append(np.array(frames))\n",
    "                labels.append(label)\n",
    "    return np.array(data), np.array(labels)\n",
    "\n",
    "# Eğitim ve test verilerini yükle\n",
    "def load_dataset(train_path, test_path):\n",
    "    # Eğitim verileri\n",
    "    train_iki_kol_data, train_iki_kol_labels = load_data_from_folder(\n",
    "        os.path.join(train_path, \"iki kol\"), 0)\n",
    "    train_sag_kol_su_data, train_sag_kol_su_labels = load_data_from_folder(\n",
    "        os.path.join(train_path, \"su icme sag\"), 1)\n",
    "    train_kutu_koyma_sag_data, train_kutu_koyma_sag_labels = load_data_from_folder(\n",
    "        os.path.join(train_path, \"kutu koyma sag\"), 2)\n",
    "    \n",
    "    # Test verileri\n",
    "    test_iki_kol_data, test_iki_kol_labels = load_data_from_folder(\n",
    "        os.path.join(test_path, \"iki kol\"), 0)\n",
    "    test_sag_kol_su_data, test_sag_kol_su_labels = load_data_from_folder(\n",
    "        os.path.join(test_path, \"su icme sag\"), 1)\n",
    "    test_kutu_koyma_sag_data, test_kutu_koyma_sag_labels = load_data_from_folder(\n",
    "        os.path.join(test_path, \"kutu koyma sag\"), 2)\n",
    "    \n",
    "    # Tüm veriyi birleştir\n",
    "    train_data = np.concatenate([train_iki_kol_data, train_sag_kol_su_data, train_kutu_koyma_sag_data], axis=0)\n",
    "    train_labels = np.concatenate([train_iki_kol_labels, train_sag_kol_su_labels, train_kutu_koyma_sag_labels], axis=0)\n",
    "    test_data = np.concatenate([test_iki_kol_data, test_sag_kol_su_data, test_kutu_koyma_sag_data], axis=0)\n",
    "    test_labels = np.concatenate([test_iki_kol_labels, test_sag_kol_su_labels, test_kutu_koyma_sag_labels], axis=0)\n",
    "    \n",
    "    return train_data, train_labels, test_data, test_labels\n",
    "\n",
    "# Pathler\n",
    "train_path = \"C:/Users/Hp/Desktop/08.07.2024 kol veriler/deneme_esit_veri_split_dataset/train\"\n",
    "test_path = \"C:/Users/Hp/Desktop/08.07.2024 kol veriler/deneme_esit_veri_split_dataset/test\"\n",
    "\n",
    "# Verileri yükle\n",
    "train_data, train_labels, test_data, test_labels = load_dataset(train_path, test_path)"
   ]
  },
  {
   "cell_type": "code",
   "execution_count": 8,
   "id": "0d55bcd2",
   "metadata": {},
   "outputs": [],
   "source": [
    "import torch\n",
    "from torch.utils.data import Dataset, DataLoader\n",
    "\n",
    "class CustomDataset(Dataset):\n",
    "    def __init__(self, X, y):\n",
    "        # Conv3D için veriyi [batch_size, channels, depth, height, width] formatına getiriyoruz\n",
    "        self.X = torch.tensor(X, dtype=torch.float32).permute(0, 4, 1, 2, 3)  # (N, D, H, W, C) -> (N, C, D, H, W)\n",
    "        self.y = torch.tensor(y, dtype=torch.long)\n",
    "    \n",
    "    def __len__(self):\n",
    "        return len(self.X)\n",
    "    \n",
    "    def __getitem__(self, idx):\n",
    "        return self.X[idx], self.y[idx]\n",
    "\n",
    "\n",
    "X_train = train_data\n",
    "y_train = train_labels\n",
    "\n",
    "X_test = test_data\n",
    "y_test = test_labels\n",
    "\n",
    "# Eğitim ve test veri setleri\n",
    "train_dataset = CustomDataset(X_train, y_train)\n",
    "test_dataset = CustomDataset(X_test, y_test)\n",
    "\n",
    "# Veri yükleyiciler\n",
    "train_loader = DataLoader(train_dataset, batch_size=32, shuffle=True)\n",
    "test_loader = DataLoader(test_dataset, batch_size=32, shuffle=False)\n"
   ]
  },
  {
   "cell_type": "code",
   "execution_count": 16,
   "id": "c476b7e2",
   "metadata": {},
   "outputs": [
    {
     "data": {
      "text/plain": [
       "array([0, 0, 0, 0, 0, 0, 0, 0, 0, 0, 0, 0, 0, 0, 0, 0, 0, 0, 0, 0, 0, 0,\n",
       "       0, 0, 0, 0, 0, 0, 0, 0, 0, 0, 0, 0, 0, 0, 0, 0, 0, 0, 1, 1, 1, 1,\n",
       "       1, 1, 1, 1, 1, 1, 1, 1, 1, 1, 1, 1, 1, 1, 1, 1, 1, 1, 1, 1, 1, 1,\n",
       "       1, 1, 1, 1, 1, 1, 1, 1, 1, 1, 1, 1, 1, 1, 2, 2, 2, 2, 2, 2, 2, 2,\n",
       "       2, 2, 2, 2, 2, 2, 2, 2, 2, 2, 2, 2, 2, 2, 2, 2, 2, 2, 2, 2, 2, 2,\n",
       "       2, 2, 2, 2, 2, 2, 2, 2, 2, 2])"
      ]
     },
     "execution_count": 16,
     "metadata": {},
     "output_type": "execute_result"
    }
   ],
   "source": [
    "y_train"
   ]
  },
  {
   "cell_type": "code",
   "execution_count": 13,
   "id": "c191c0f9",
   "metadata": {},
   "outputs": [],
   "source": [
    "import torch.nn as nn\n",
    "import torch.nn.functional as F\n",
    "\n",
    "class Simple3DCNN(nn.Module):\n",
    "    def __init__(self):\n",
    "        super(Simple3DCNN, self).__init__()\n",
    "        self.conv1 = nn.Conv3d(4, 16, kernel_size=(3, 3, 3), padding=1)\n",
    "        self.conv2 = nn.Conv3d(16, 32, kernel_size=(3, 3, 3), padding=1)\n",
    "        self.conv3 = nn.Conv3d(32, 64, kernel_size=(3, 3, 3), padding=1)\n",
    "        self.pool = nn.MaxPool3d((2, 2, 2))\n",
    "        self.fc1 = nn.Linear(65536, 128)\n",
    "        self.fc2 = nn.Linear(128, 64)\n",
    "        self.fc3 = nn.Linear(64, 3)\n",
    "    \n",
    "    def forward(self, x):\n",
    "        x = self.pool(F.relu(self.conv1(x)))\n",
    "        x = self.pool(F.relu(self.conv2(x)))\n",
    "        x = self.pool(F.relu(self.conv3(x)))\n",
    "        x = x.view(x.size(0), -1)  # x.size(0) batch size'ını otomatik alır\n",
    "        x = F.relu(self.fc1(x))\n",
    "        x = F.relu(self.fc2(x))\n",
    "        x = self.fc3(x)\n",
    "        return x"
   ]
  },
  {
   "cell_type": "code",
   "execution_count": 10,
   "id": "c753738a",
   "metadata": {},
   "outputs": [
    {
     "name": "stdout",
     "output_type": "stream",
     "text": [
      "cuda\n"
     ]
    }
   ],
   "source": [
    "device = torch.device(\"cuda\" if torch.cuda.is_available() else \"cpu\")\n",
    "print(device)"
   ]
  },
  {
   "cell_type": "code",
   "execution_count": 14,
   "id": "750df84a",
   "metadata": {},
   "outputs": [
    {
     "name": "stdout",
     "output_type": "stream",
     "text": [
      "Epoch 1/10, Loss: 1.1673, Train Accuracy: 33.33%, Test Accuracy: 33.33%\n",
      "Epoch 2/10, Loss: 1.1677, Train Accuracy: 33.33%, Test Accuracy: 33.33%\n",
      "Epoch 3/10, Loss: 1.1623, Train Accuracy: 33.33%, Test Accuracy: 33.33%\n",
      "Epoch 4/10, Loss: 1.1657, Train Accuracy: 33.33%, Test Accuracy: 33.33%\n",
      "Epoch 5/10, Loss: 1.1670, Train Accuracy: 33.33%, Test Accuracy: 33.33%\n",
      "Epoch 6/10, Loss: 1.1632, Train Accuracy: 33.33%, Test Accuracy: 33.33%\n",
      "Epoch 7/10, Loss: 1.1692, Train Accuracy: 33.33%, Test Accuracy: 33.33%\n",
      "Epoch 8/10, Loss: 1.1699, Train Accuracy: 33.33%, Test Accuracy: 33.33%\n",
      "Epoch 9/10, Loss: 1.1710, Train Accuracy: 33.33%, Test Accuracy: 33.33%\n",
      "Epoch 10/10, Loss: 1.1776, Train Accuracy: 33.33%, Test Accuracy: 33.33%\n"
     ]
    }
   ],
   "source": [
    "import torch.optim as optim\n",
    "epochs = 10\n",
    "model = Simple3DCNN()\n",
    "criterion = nn.CrossEntropyLoss()\n",
    "optimizer = optim.Adam(model.parameters(), lr=0.1)\n",
    "model = Simple3DCNN().to(device)\n",
    "for epoch in range(epochs):\n",
    "    model.train()\n",
    "    running_loss = 0.0\n",
    "    correct_train = 0\n",
    "    total_train = 0\n",
    "    \n",
    "    # Eğitim aşaması\n",
    "    for inputs, labels in train_loader:\n",
    "        inputs, labels = inputs.to(device), labels.to(device)  # Verileri GPU'ya taşıma\n",
    "        optimizer.zero_grad()\n",
    "        outputs = model(inputs)\n",
    "        loss = criterion(outputs, labels)\n",
    "        loss.backward()\n",
    "        optimizer.step()\n",
    "        running_loss += loss.item()\n",
    "        \n",
    "        # Eğitim doğruluğu hesaplama\n",
    "        _, predicted = torch.max(outputs.data, 1)\n",
    "        total_train += labels.size(0)\n",
    "        correct_train += (predicted == labels).sum().item()\n",
    "    \n",
    "    train_accuracy = 100 * correct_train / total_train\n",
    "    \n",
    "    # Test aşaması\n",
    "    model.eval()\n",
    "    correct_test = 0\n",
    "    total_test = 0\n",
    "    with torch.no_grad():\n",
    "        for inputs, labels in test_loader:\n",
    "            inputs, labels = inputs.to(device), labels.to(device)  # Verileri GPU'ya taşıma\n",
    "            outputs = model(inputs)\n",
    "            _, predicted = torch.max(outputs.data, 1)\n",
    "            total_test += labels.size(0)\n",
    "            correct_test += (predicted == labels).sum().item()\n",
    "    \n",
    "    test_accuracy = 100 * correct_test / total_test\n",
    "    \n",
    "    print(f'Epoch {epoch+1}/{epochs}, Loss: {running_loss/len(train_loader):.4f}, Train Accuracy: {train_accuracy:.2f}%, Test Accuracy: {test_accuracy:.2f}%')\n",
    "\n"
   ]
  },
  {
   "cell_type": "code",
   "execution_count": null,
   "id": "7d74c158",
   "metadata": {},
   "outputs": [],
   "source": []
  }
 ],
 "metadata": {
  "kernelspec": {
   "display_name": "PyTorch-GPU",
   "language": "python",
   "name": "pytorch-gpu"
  },
  "language_info": {
   "codemirror_mode": {
    "name": "ipython",
    "version": 3
   },
   "file_extension": ".py",
   "mimetype": "text/x-python",
   "name": "python",
   "nbconvert_exporter": "python",
   "pygments_lexer": "ipython3",
   "version": "3.10.14"
  }
 },
 "nbformat": 4,
 "nbformat_minor": 5
}
